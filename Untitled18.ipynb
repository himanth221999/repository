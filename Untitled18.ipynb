{
  "nbformat": 4,
  "nbformat_minor": 0,
  "metadata": {
    "colab": {
      "provenance": [],
      "authorship_tag": "ABX9TyMHbm1tDuqLAawG/7pFGuMk",
      "include_colab_link": true
    },
    "kernelspec": {
      "name": "python3",
      "display_name": "Python 3"
    },
    "language_info": {
      "name": "python"
    }
  },
  "cells": [
    {
      "cell_type": "markdown",
      "metadata": {
        "id": "view-in-github",
        "colab_type": "text"
      },
      "source": [
        "<a href=\"https://colab.research.google.com/github/himanth221999/repository/blob/master/Untitled18.ipynb\" target=\"_parent\"><img src=\"https://colab.research.google.com/assets/colab-badge.svg\" alt=\"Open In Colab\"/></a>"
      ]
    },
    {
      "cell_type": "code",
      "source": [
        "pip install biopython pandas typer\n"
      ],
      "metadata": {
        "colab": {
          "base_uri": "https://localhost:8080/"
        },
        "id": "i_s7hkp21H3I",
        "outputId": "bf04d61f-ebf6-4b00-ae97-cb77cab85027"
      },
      "execution_count": 2,
      "outputs": [
        {
          "output_type": "stream",
          "name": "stdout",
          "text": [
            "Collecting biopython\n",
            "  Downloading biopython-1.85-cp311-cp311-manylinux_2_17_x86_64.manylinux2014_x86_64.whl.metadata (13 kB)\n",
            "Requirement already satisfied: pandas in /usr/local/lib/python3.11/dist-packages (2.2.2)\n",
            "Requirement already satisfied: typer in /usr/local/lib/python3.11/dist-packages (0.15.2)\n",
            "Requirement already satisfied: numpy in /usr/local/lib/python3.11/dist-packages (from biopython) (1.26.4)\n",
            "Requirement already satisfied: python-dateutil>=2.8.2 in /usr/local/lib/python3.11/dist-packages (from pandas) (2.8.2)\n",
            "Requirement already satisfied: pytz>=2020.1 in /usr/local/lib/python3.11/dist-packages (from pandas) (2025.1)\n",
            "Requirement already satisfied: tzdata>=2022.7 in /usr/local/lib/python3.11/dist-packages (from pandas) (2025.1)\n",
            "Requirement already satisfied: click>=8.0.0 in /usr/local/lib/python3.11/dist-packages (from typer) (8.1.8)\n",
            "Requirement already satisfied: typing-extensions>=3.7.4.3 in /usr/local/lib/python3.11/dist-packages (from typer) (4.12.2)\n",
            "Requirement already satisfied: shellingham>=1.3.0 in /usr/local/lib/python3.11/dist-packages (from typer) (1.5.4)\n",
            "Requirement already satisfied: rich>=10.11.0 in /usr/local/lib/python3.11/dist-packages (from typer) (13.9.4)\n",
            "Requirement already satisfied: six>=1.5 in /usr/local/lib/python3.11/dist-packages (from python-dateutil>=2.8.2->pandas) (1.17.0)\n",
            "Requirement already satisfied: markdown-it-py>=2.2.0 in /usr/local/lib/python3.11/dist-packages (from rich>=10.11.0->typer) (3.0.0)\n",
            "Requirement already satisfied: pygments<3.0.0,>=2.13.0 in /usr/local/lib/python3.11/dist-packages (from rich>=10.11.0->typer) (2.18.0)\n",
            "Requirement already satisfied: mdurl~=0.1 in /usr/local/lib/python3.11/dist-packages (from markdown-it-py>=2.2.0->rich>=10.11.0->typer) (0.1.2)\n",
            "Downloading biopython-1.85-cp311-cp311-manylinux_2_17_x86_64.manylinux2014_x86_64.whl (3.3 MB)\n",
            "\u001b[2K   \u001b[90m━━━━━━━━━━━━━━━━━━━━━━━━━━━━━━━━━━━━━━━━\u001b[0m \u001b[32m3.3/3.3 MB\u001b[0m \u001b[31m31.4 MB/s\u001b[0m eta \u001b[36m0:00:00\u001b[0m\n",
            "\u001b[?25hInstalling collected packages: biopython\n",
            "Successfully installed biopython-1.85\n"
          ]
        }
      ]
    },
    {
      "cell_type": "code",
      "source": [
        "'colab_kernel_launcher.py --help'"
      ],
      "metadata": {
        "colab": {
          "base_uri": "https://localhost:8080/",
          "height": 36
        },
        "id": "vF2vocR831Z9",
        "outputId": "0bb730f6-8f38-47c4-e9f5-2033121ef0af"
      },
      "execution_count": 8,
      "outputs": [
        {
          "output_type": "execute_result",
          "data": {
            "text/plain": [
              "'colab_kernel_launcher.py --help'"
            ],
            "application/vnd.google.colaboratory.intrinsic+json": {
              "type": "string"
            }
          },
          "metadata": {},
          "execution_count": 8
        }
      ]
    },
    {
      "cell_type": "code",
      "source": [
        "import typer\n",
        "import pandas as pd\n",
        "import traceback\n",
        "from Bio import Entrez, Medline\n",
        "\n",
        "# Set NCBI API credentials\n",
        "Entrez.email = \"your_email@example.com\"  # Required\n",
        "Entrez.api_key = \"your_api_key_here\"  # Optional but recommended\n",
        "\n",
        "def fetch_papers(query: str, max_results: int = 20, output_file: str = \"papers.csv\"):\n",
        "    \"\"\"Fetch research papers from PubMed using full query syntax.\"\"\"\n",
        "\n",
        "    try:\n",
        "        print(f\"Searching PubMed for: {query}\")\n",
        "        search_handle = Entrez.esearch(db=\"pubmed\", term=query, retmax=max_results)\n",
        "        search_results = Entrez.read(search_handle)\n",
        "        search_handle.close()\n",
        "\n",
        "        pubmed_ids = search_results.get(\"IdList\", [])\n",
        "        if not pubmed_ids:\n",
        "            print(\"No results found for query:\", query)\n",
        "            return\n",
        "\n",
        "        print(f\"Found {len(pubmed_ids)} papers. Fetching details...\")\n",
        "\n",
        "        # Fetch detailed metadata\n",
        "        fetch_handle = Entrez.efetch(db=\"pubmed\", id=\",\".join(pubmed_ids), rettype=\"medline\", retmode=\"text\")\n",
        "        records = Medline.parse(fetch_handle)\n",
        "        papers = []\n",
        "\n",
        "        for record in records:\n",
        "            pubmed_id = record.get(\"PMID\", \"N/A\")\n",
        "            title = record.get(\"TI\", \"No Title\")\n",
        "            authors = \", \".join(record.get(\"AU\", [\"Unknown Author\"]))\n",
        "            pub_date = record.get(\"DP\", \"No Date\")\n",
        "            papers.append([pubmed_id, title, authors, pub_date])\n",
        "\n",
        "        fetch_handle.close()\n",
        "\n",
        "        # Save results to CSV\n",
        "        df = pd.DataFrame(papers, columns=[\"PubMed ID\", \"Title\", \"Authors\", \"Publication Date\"])\n",
        "        df.to_csv(output_file, index=False)\n",
        "\n",
        "        print(f\"Results saved to {output_file}\")\n",
        "\n",
        "    except Exception:\n",
        "        print(\"An error occurred while fetching papers:\")\n",
        "        traceback.print_exc()  # This prints the full error traceback\n"
      ],
      "metadata": {
        "id": "tW58YhGr3u-k"
      },
      "execution_count": 11,
      "outputs": []
    },
    {
      "cell_type": "code",
      "source": [
        "python colab_kernel_launcher.py \"your_query_here\" --max 50 --file output.csv"
      ],
      "metadata": {
        "colab": {
          "base_uri": "https://localhost:8080/",
          "height": 110
        },
        "id": "UnwfOZkP6Io7",
        "outputId": "3de99ec2-c661-472e-e214-70614abef4ae"
      },
      "execution_count": 15,
      "outputs": [
        {
          "output_type": "error",
          "ename": "SyntaxError",
          "evalue": "invalid syntax (<ipython-input-15-36d06ed134b7>, line 1)",
          "traceback": [
            "\u001b[0;36m  File \u001b[0;32m\"<ipython-input-15-36d06ed134b7>\"\u001b[0;36m, line \u001b[0;32m1\u001b[0m\n\u001b[0;31m    python colab_kernel_launcher.py \"your_query_here\" --max 50 --file output.csv\u001b[0m\n\u001b[0m           ^\u001b[0m\n\u001b[0;31mSyntaxError\u001b[0m\u001b[0;31m:\u001b[0m invalid syntax\n"
          ]
        }
      ]
    },
    {
      "cell_type": "code",
      "source": [],
      "metadata": {
        "id": "2u98JpR16vdg"
      },
      "execution_count": null,
      "outputs": []
    }
  ]
}